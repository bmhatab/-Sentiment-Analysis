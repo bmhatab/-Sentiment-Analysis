{
 "cells": [
  {
   "cell_type": "markdown",
   "id": "e1216036",
   "metadata": {},
   "source": [
    "# A walkthrough on Regular Expression (re)\n",
    "Regular Expression is a default python package that allows for text lookup, replacement, and several features for strings "
   ]
  },
  {
   "cell_type": "code",
   "execution_count": 1,
   "id": "f5e11e80",
   "metadata": {},
   "outputs": [],
   "source": [
    "import re "
   ]
  },
  {
   "cell_type": "markdown",
   "id": "7b7feae1",
   "metadata": {},
   "source": [
    "### We generate a sample string and look for particular matches in the sample string"
   ]
  },
  {
   "cell_type": "code",
   "execution_count": 2,
   "id": "24b334d4",
   "metadata": {},
   "outputs": [
    {
     "name": "stdout",
     "output_type": "stream",
     "text": [
      "<re.Match object; span=(3, 6), match='abc'>\n",
      "<re.Match object; span=(12, 15), match='abc'>\n"
     ]
    }
   ],
   "source": [
    "# Random string\n",
    "test_string = \"123abc456789abc123ABC\"\n",
    "# Pattern to match in text\n",
    "pattern = re.compile(r\"abc\")\n",
    "matches = pattern.finditer(test_string)\n",
    "#matches = re.finditer(r\"abc\",test_string)  --- Alternate method\n",
    "for match in matches:\n",
    "    print(match)\n",
    "# Span shows the start and end index of the match in the string, in all occurrences of the match "
   ]
  },
  {
   "cell_type": "markdown",
   "id": "65fa3f75",
   "metadata": {},
   "source": [
    "### Difference between a Raw String and a String"
   ]
  },
  {
   "cell_type": "code",
   "execution_count": 3,
   "id": "2a4137a2",
   "metadata": {},
   "outputs": [
    {
     "name": "stdout",
     "output_type": "stream",
     "text": [
      "\tHello\n",
      "\\tHello\n"
     ]
    }
   ],
   "source": [
    "# r is for raw string\n",
    "a = \"\\tHello\"\n",
    "print(a)\n",
    "a = r\"\\tHello\"\n",
    "print(a)"
   ]
  },
  {
   "cell_type": "markdown",
   "id": "d7c451b8",
   "metadata": {},
   "source": [
    "## Popular methods for pattern object which inherits from re\n",
    "#### match(): Determine if the RE matches at the beginning of the string"
   ]
  },
  {
   "cell_type": "code",
   "execution_count": 4,
   "id": "92a4c4bb",
   "metadata": {},
   "outputs": [
    {
     "name": "stdout",
     "output_type": "stream",
     "text": [
      "abc\n",
      "abc\n"
     ]
    }
   ],
   "source": [
    "# Remember using test_string = \"123abc456789abc123ABC\"\n",
    "# match(), search(), findall()\n",
    "matches = pattern.findall(test_string)\n",
    "for match in matches:\n",
    "   print(match)"
   ]
  },
  {
   "cell_type": "markdown",
   "id": "1ae781fa",
   "metadata": {},
   "source": [
    "#### finditer(): Find all substrings where the RE matches and return them as an iterator."
   ]
  },
  {
   "cell_type": "code",
   "execution_count": 5,
   "id": "5700f40d",
   "metadata": {},
   "outputs": [
    {
     "name": "stdout",
     "output_type": "stream",
     "text": [
      "(3, 6) 3 6\n",
      "abc\n",
      "(12, 15) 12 15\n",
      "abc\n"
     ]
    }
   ],
   "source": [
    "matches = re.finditer(r\"abc\",test_string)\n",
    "\n",
    "# group, start, end, span\n",
    "for match in matches:\n",
    "   print(match.span(), match.start(), match.end())\n",
    "   print(match.group())"
   ]
  },
  {
   "cell_type": "markdown",
   "id": "1025ea19",
   "metadata": {},
   "source": [
    "## Meta Characters\n",
    "### All meta characters: . ^ $ * + ? {} [] \\ | ()\n"
   ]
  },
  {
   "cell_type": "markdown",
   "id": "56c27b6f",
   "metadata": {},
   "source": [
    "### . Any character (except newline character)"
   ]
  },
  {
   "cell_type": "code",
   "execution_count": 6,
   "id": "07f4ae1e",
   "metadata": {},
   "outputs": [
    {
     "name": "stdout",
     "output_type": "stream",
     "text": [
      "1\n",
      "2\n",
      "3\n",
      "a\n",
      "b\n",
      "c\n",
      "4\n",
      "5\n",
      "6\n",
      "7\n",
      "8\n",
      "9\n",
      "a\n",
      "b\n",
      "c\n",
      "1\n",
      "2\n",
      "3\n",
      "A\n",
      "B\n",
      "C\n"
     ]
    }
   ],
   "source": [
    "# Meta characters\n",
    "matches = re.finditer(r\".\",test_string)\n",
    "for match in matches:\n",
    "   print(match.group())"
   ]
  },
  {
   "cell_type": "markdown",
   "id": "cd2cd25f",
   "metadata": {},
   "source": [
    "### \\ : Special sequence (or escape characters) "
   ]
  },
  {
   "cell_type": "code",
   "execution_count": 7,
   "id": "37e03277",
   "metadata": {},
   "outputs": [
    {
     "name": "stdout",
     "output_type": "stream",
     "text": [
      ".\n"
     ]
    }
   ],
   "source": [
    "# Using special character escape\n",
    "\n",
    "test_string = \"123abc456789abc123.ABC\"\n",
    "matches = re.finditer(r\"\\.\",test_string)\n",
    "for match in matches:\n",
    "   print(match.group())"
   ]
  },
  {
   "cell_type": "markdown",
   "id": "bc2b952a",
   "metadata": {},
   "source": [
    "### \\d : Matches any decimal digit; [0-9]"
   ]
  },
  {
   "cell_type": "code",
   "execution_count": 8,
   "id": "cd512688",
   "metadata": {},
   "outputs": [
    {
     "name": "stdout",
     "output_type": "stream",
     "text": [
      "<re.Match object; span=(6, 7), match='1'>\n",
      "<re.Match object; span=(7, 8), match='2'>\n",
      "<re.Match object; span=(8, 9), match='3'>\n"
     ]
    }
   ],
   "source": [
    "test_string = \"hello 123_ heyho hohey\"\n",
    "pattern = re.compile(r'\\d')\n",
    "matches = pattern.finditer(test_string)\n",
    "\n",
    "for match in matches:\n",
    "    print(match)"
   ]
  },
  {
   "cell_type": "markdown",
   "id": "8f68540e",
   "metadata": {},
   "source": [
    "### \\D : Matches any non-digit character"
   ]
  },
  {
   "cell_type": "code",
   "execution_count": 9,
   "id": "30bd10ea",
   "metadata": {
    "scrolled": true
   },
   "outputs": [
    {
     "name": "stdout",
     "output_type": "stream",
     "text": [
      "<re.Match object; span=(0, 1), match='h'>\n",
      "<re.Match object; span=(1, 2), match='e'>\n",
      "<re.Match object; span=(2, 3), match='l'>\n",
      "<re.Match object; span=(3, 4), match='l'>\n",
      "<re.Match object; span=(4, 5), match='o'>\n",
      "<re.Match object; span=(5, 6), match=' '>\n",
      "<re.Match object; span=(9, 10), match='_'>\n",
      "<re.Match object; span=(10, 11), match=' '>\n",
      "<re.Match object; span=(11, 12), match='h'>\n",
      "<re.Match object; span=(12, 13), match='e'>\n",
      "<re.Match object; span=(13, 14), match='y'>\n",
      "<re.Match object; span=(14, 15), match='h'>\n",
      "<re.Match object; span=(15, 16), match='o'>\n",
      "<re.Match object; span=(16, 17), match=' '>\n",
      "<re.Match object; span=(17, 18), match='h'>\n",
      "<re.Match object; span=(18, 19), match='o'>\n",
      "<re.Match object; span=(19, 20), match='h'>\n",
      "<re.Match object; span=(20, 21), match='e'>\n",
      "<re.Match object; span=(21, 22), match='y'>\n"
     ]
    }
   ],
   "source": [
    "test_string = \"hello 123_ heyho hohey\"\n",
    "pattern = re.compile(r'\\D')\n",
    "matches = pattern.finditer(test_string)\n",
    "\n",
    "for match in matches:\n",
    "    print(match)"
   ]
  },
  {
   "cell_type": "markdown",
   "id": "5ccdeb50",
   "metadata": {},
   "source": [
    "### \\b : Matches where the specified characters are at the beginning or at the end of a word"
   ]
  },
  {
   "cell_type": "code",
   "execution_count": 10,
   "id": "e39f8c2c",
   "metadata": {},
   "outputs": [
    {
     "name": "stdout",
     "output_type": "stream",
     "text": [
      "<re.Match object; span=(0, 5), match='hello'>\n"
     ]
    }
   ],
   "source": [
    "test_string = \"hello 123_ heyho hohey\"\n",
    "pattern = re.compile(r'\\bhello')\n",
    "matches = pattern.finditer(test_string)\n",
    "\n",
    "for match in matches:\n",
    "    print(match)"
   ]
  },
  {
   "cell_type": "markdown",
   "id": "d0e9eb05",
   "metadata": {},
   "source": [
    "### \\B : Matches where the specified characters are present, but NOT at the beginning or the end"
   ]
  },
  {
   "cell_type": "code",
   "execution_count": 13,
   "id": "f4b9f4f0",
   "metadata": {},
   "outputs": [
    {
     "name": "stdout",
     "output_type": "stream",
     "text": [
      "<re.Match object; span=(14, 16), match='ho'>\n"
     ]
    }
   ],
   "source": [
    "test_string = \"hello 123_ heyho hohey\"\n",
    "pattern = re.compile(r'\\Bho')\n",
    "matches = pattern.finditer(test_string)\n",
    "\n",
    "for match in matches:\n",
    "    print(match)"
   ]
  },
  {
   "cell_type": "markdown",
   "id": "9d3c56ff",
   "metadata": {},
   "source": [
    "### [] :  A set of characters \"[a-m]\""
   ]
  },
  {
   "cell_type": "code",
   "execution_count": 14,
   "id": "7e50e12f",
   "metadata": {},
   "outputs": [
    {
     "name": "stdout",
     "output_type": "stream",
     "text": [
      "<re.Match object; span=(2, 3), match='l'>\n",
      "<re.Match object; span=(3, 4), match='l'>\n",
      "<re.Match object; span=(4, 5), match='o'>\n",
      "<re.Match object; span=(15, 16), match='o'>\n",
      "<re.Match object; span=(18, 19), match='o'>\n"
     ]
    }
   ],
   "source": [
    "test_string = \"hello 123_ heyho hohey\"\n",
    "pattern = re.compile(r'[lo]')\n",
    "matches = pattern.finditer(test_string)\n",
    "\n",
    "for match in matches:\n",
    "    print(match)"
   ]
  },
  {
   "cell_type": "code",
   "execution_count": 15,
   "id": "080e95c0",
   "metadata": {},
   "outputs": [
    {
     "name": "stdout",
     "output_type": "stream",
     "text": [
      "<re.Match object; span=(0, 1), match='h'>\n",
      "<re.Match object; span=(1, 2), match='e'>\n",
      "<re.Match object; span=(2, 3), match='l'>\n",
      "<re.Match object; span=(3, 4), match='l'>\n",
      "<re.Match object; span=(4, 5), match='o'>\n"
     ]
    }
   ],
   "source": [
    "test_string = \"hello_123\"\n",
    "pattern = re.compile(r'[a-z]')\n",
    "matches = pattern.finditer(test_string)\n",
    "\n",
    "for match in matches:\n",
    "    print(match)"
   ]
  },
  {
   "cell_type": "code",
   "execution_count": 16,
   "id": "2366075c",
   "metadata": {},
   "outputs": [
    {
     "name": "stdout",
     "output_type": "stream",
     "text": [
      "<re.Match object; span=(6, 7), match='1'>\n",
      "<re.Match object; span=(7, 8), match='2'>\n",
      "<re.Match object; span=(8, 9), match='3'>\n"
     ]
    }
   ],
   "source": [
    "test_string = \"hello_123\"\n",
    "pattern = re.compile(r'\\d')\n",
    "matches = pattern.finditer(test_string)\n",
    "\n",
    "for match in matches:\n",
    "    print(match)"
   ]
  },
  {
   "cell_type": "markdown",
   "id": "d855fb17",
   "metadata": {},
   "source": [
    "## Quantifiers \n",
    "### * : 0 or more"
   ]
  },
  {
   "cell_type": "code",
   "execution_count": 17,
   "id": "7c89ff58",
   "metadata": {},
   "outputs": [
    {
     "name": "stdout",
     "output_type": "stream",
     "text": [
      "<re.Match object; span=(0, 0), match=''>\n",
      "<re.Match object; span=(1, 1), match=''>\n",
      "<re.Match object; span=(2, 2), match=''>\n",
      "<re.Match object; span=(3, 3), match=''>\n",
      "<re.Match object; span=(4, 4), match=''>\n",
      "<re.Match object; span=(5, 5), match=''>\n",
      "<re.Match object; span=(6, 9), match='123'>\n",
      "<re.Match object; span=(9, 9), match=''>\n"
     ]
    }
   ],
   "source": [
    "# Zero or more quantifier *\n",
    "test_string = \"hello_123\"\n",
    "pattern = re.compile(r'\\d*')\n",
    "matches = pattern.finditer(test_string)\n",
    "\n",
    "for match in matches:\n",
    "    print(match)"
   ]
  },
  {
   "cell_type": "markdown",
   "id": "f0e40827",
   "metadata": {},
   "source": [
    "### + : 1 or more"
   ]
  },
  {
   "cell_type": "code",
   "execution_count": 18,
   "id": "858ce1a2",
   "metadata": {},
   "outputs": [
    {
     "name": "stdout",
     "output_type": "stream",
     "text": [
      "<re.Match object; span=(6, 9), match='123'>\n"
     ]
    }
   ],
   "source": [
    "# One or more quantifier\n",
    "test_string = \"hello_123\"\n",
    "pattern = re.compile(r'\\d+')\n",
    "matches = pattern.finditer(test_string)\n",
    "\n",
    "for match in matches:\n",
    "    print(match)"
   ]
  },
  {
   "cell_type": "code",
   "execution_count": 19,
   "id": "9d3e8800",
   "metadata": {},
   "outputs": [
    {
     "name": "stdout",
     "output_type": "stream",
     "text": [
      "<re.Match object; span=(5, 7), match='_1'>\n"
     ]
    }
   ],
   "source": [
    "# One or more quantifier\n",
    "test_string = \"hello_123\"\n",
    "pattern = re.compile(r'_\\d')\n",
    "matches = pattern.finditer(test_string)\n",
    "\n",
    "for match in matches:\n",
    "    print(match)"
   ]
  },
  {
   "cell_type": "markdown",
   "id": "364f50a5",
   "metadata": {},
   "source": [
    "### ? : 0 or 1, -> optional character"
   ]
  },
  {
   "cell_type": "code",
   "execution_count": 21,
   "id": "b040b8bd",
   "metadata": {},
   "outputs": [
    {
     "name": "stdout",
     "output_type": "stream",
     "text": [
      "<re.Match object; span=(5, 6), match='1'>\n",
      "<re.Match object; span=(6, 7), match='2'>\n",
      "<re.Match object; span=(7, 8), match='3'>\n"
     ]
    }
   ],
   "source": [
    "# Optional quantifier\n",
    "test_string = \"hello123\"\n",
    "pattern = re.compile(r'_?\\d')\n",
    "matches = pattern.finditer(test_string)\n",
    "\n",
    "for match in matches:\n",
    "    print(match)"
   ]
  },
  {
   "cell_type": "markdown",
   "id": "edd49b99",
   "metadata": {},
   "source": [
    "### {4} : exact number\n",
    "This specifies the exact number of characters"
   ]
  },
  {
   "cell_type": "code",
   "execution_count": 22,
   "id": "41dea8f5",
   "metadata": {},
   "outputs": [
    {
     "name": "stdout",
     "output_type": "stream",
     "text": [
      "<re.Match object; span=(5, 6), match='1'>\n",
      "<re.Match object; span=(6, 7), match='2'>\n",
      "<re.Match object; span=(7, 8), match='3'>\n"
     ]
    }
   ],
   "source": [
    "# Exact matches\n",
    "test_string = \"hello123\"\n",
    "pattern = re.compile(r'\\d{1}')\n",
    "matches = pattern.finditer(test_string)\n",
    "\n",
    "for match in matches:\n",
    "    print(match)"
   ]
  },
  {
   "cell_type": "code",
   "execution_count": 4,
   "id": "8192ba6d",
   "metadata": {},
   "outputs": [
    {
     "name": "stdout",
     "output_type": "stream",
     "text": [
      "<re.Match object; span=(5, 7), match='12'>\n"
     ]
    }
   ],
   "source": [
    "# Exact matches\n",
    "test_string = \"hello123\"\n",
    "pattern = re.compile(r'\\d{2}')\n",
    "matches = pattern.finditer(test_string)\n",
    "\n",
    "for match in matches:\n",
    "    print(match)"
   ]
  },
  {
   "cell_type": "code",
   "execution_count": 26,
   "id": "94c98b82",
   "metadata": {},
   "outputs": [
    {
     "name": "stdout",
     "output_type": "stream",
     "text": [
      "<re.Match object; span=(5, 8), match='123'>\n"
     ]
    }
   ],
   "source": [
    "# Exact matches for range\n",
    "test_string = \"hello123\"\n",
    "pattern = re.compile(r'\\d{1,3}')\n",
    "matches = pattern.finditer(test_string)\n",
    "\n",
    "for match in matches:\n",
    "    print(match)"
   ]
  },
  {
   "cell_type": "markdown",
   "id": "16209c07",
   "metadata": {},
   "source": [
    "## Some more Application of Regular Expression Methods\n",
    "Using the list of data with mixed formatting types we can use regular expression methods to extract whatever we need"
   ]
  },
  {
   "cell_type": "code",
   "execution_count": 6,
   "id": "48dacd1d",
   "metadata": {},
   "outputs": [
    {
     "name": "stdout",
     "output_type": "stream",
     "text": [
      "<re.Match object; span=(1, 11), match='2020.03.01'>\n",
      "<re.Match object; span=(13, 23), match='2020.04.01'>\n"
     ]
    }
   ],
   "source": [
    "dates = \"\"\"\n",
    "2020.03.01\n",
    "\n",
    "2020.04.01\n",
    "\n",
    "2020-04-01\n",
    "2020-05-23\n",
    "2020-06-11\n",
    "2020-07-11\n",
    "2020-08-11\n",
    "\n",
    "2020_04_04\n",
    "2020_04_04\n",
    "\n",
    "2020/05/01\n",
    "2020/06/01\n",
    "2020/07/01\n",
    "\"\"\"\n",
    "pattern = re.compile(r'\\d\\d\\d\\d\\.\\d\\d\\.\\d\\d')\n",
    "matches = pattern.finditer(dates)\n",
    "\n",
    "for match in matches:\n",
    "    print(match)"
   ]
  },
  {
   "cell_type": "markdown",
   "id": "9468b71c",
   "metadata": {},
   "source": [
    " A simpler approach while extracting dates with the - seperator as opposed to . "
   ]
  },
  {
   "cell_type": "code",
   "execution_count": 41,
   "id": "df9ee7d0",
   "metadata": {},
   "outputs": [
    {
     "name": "stdout",
     "output_type": "stream",
     "text": [
      "<re.Match object; span=(25, 35), match='2020-04-01'>\n",
      "<re.Match object; span=(36, 46), match='2020-05-23'>\n",
      "<re.Match object; span=(47, 57), match='2020-06-11'>\n",
      "<re.Match object; span=(58, 68), match='2020-07-11'>\n",
      "<re.Match object; span=(69, 79), match='2020-08-11'>\n"
     ]
    }
   ],
   "source": [
    "#pattern = re.compile(r'\\d\\d\\d\\d-\\d\\d-\\d\\d')\n",
    "pattern = re.compile(r'\\d{4}-\\d{2}-\\d{2}')\n",
    "matches = pattern.finditer(dates)\n",
    "\n",
    "for match in matches:\n",
    "    print(match)"
   ]
  },
  {
   "cell_type": "markdown",
   "id": "c94a8247",
   "metadata": {},
   "source": [
    "Extracting dates with / seperator"
   ]
  },
  {
   "cell_type": "code",
   "execution_count": 38,
   "id": "7385ef88",
   "metadata": {},
   "outputs": [
    {
     "name": "stdout",
     "output_type": "stream",
     "text": [
      "<re.Match object; span=(104, 114), match='2020/05/01'>\n",
      "<re.Match object; span=(115, 125), match='2020/06/01'>\n",
      "<re.Match object; span=(126, 136), match='2020/07/01'>\n"
     ]
    }
   ],
   "source": [
    "pattern = re.compile(r'\\d\\d\\d\\d[/]\\d\\d[/]\\d\\d')\n",
    "matches = pattern.finditer(dates)\n",
    "\n",
    "for match in matches:\n",
    "    print(match)"
   ]
  },
  {
   "cell_type": "markdown",
   "id": "c55cf435",
   "metadata": {},
   "source": [
    "Selecting dates with month starting with 0 then 5 or 6"
   ]
  },
  {
   "cell_type": "code",
   "execution_count": 40,
   "id": "9504c1b4",
   "metadata": {},
   "outputs": [
    {
     "name": "stdout",
     "output_type": "stream",
     "text": [
      "<re.Match object; span=(104, 114), match='2020/05/01'>\n",
      "<re.Match object; span=(115, 125), match='2020/06/01'>\n"
     ]
    }
   ],
   "source": [
    "pattern = re.compile(r'\\d\\d\\d\\d[/]0[56][/]\\d\\d')\n",
    "matches = pattern.finditer(dates)\n",
    "\n",
    "for match in matches:\n",
    "    print(match)"
   ]
  },
  {
   "cell_type": "markdown",
   "id": "24ebe2c8",
   "metadata": {},
   "source": [
    "### Another example using special characters\n",
    "#### \\s : Matches any whitespace character; (space \"\" tab \"\\t\" newline \"\\n\")\n",
    "#### \\w : Matches any alphanumeric (word) character; [a-zA-z0-9_]\n",
    "#### + One or more occurences \"aix+\""
   ]
  },
  {
   "cell_type": "code",
   "execution_count": 42,
   "id": "28654509",
   "metadata": {},
   "outputs": [
    {
     "name": "stdout",
     "output_type": "stream",
     "text": [
      "<re.Match object; span=(18, 28), match='Mr Simpson'>\n"
     ]
    }
   ],
   "source": [
    "# Conditions\n",
    "my_string = \"\"\"\n",
    "hello world\n",
    "1223\n",
    "Mr Simpson\n",
    "Mrs Simpson\n",
    "Mr. Brown\n",
    "Ms Smith\n",
    "Mr. T\n",
    "\"\"\"\n",
    "\n",
    "pattern = re.compile(r'Mr\\s\\w+')\n",
    "matches = pattern.finditer(my_string)\n",
    "\n",
    "for match in matches:\n",
    "    print(match)"
   ]
  },
  {
   "cell_type": "code",
   "execution_count": 43,
   "id": "28347d5c",
   "metadata": {},
   "outputs": [
    {
     "name": "stdout",
     "output_type": "stream",
     "text": [
      "<re.Match object; span=(41, 50), match='Mr. Brown'>\n",
      "<re.Match object; span=(60, 65), match='Mr. T'>\n"
     ]
    }
   ],
   "source": [
    "pattern = re.compile(r'Mr\\.\\s\\w+')\n",
    "matches = pattern.finditer(my_string)\n",
    "\n",
    "for match in matches:\n",
    "    print(match)"
   ]
  },
  {
   "cell_type": "markdown",
   "id": "a6f1c20c",
   "metadata": {},
   "source": [
    "#### \\w : Matches any alphanumeric (word) character; [a-zA-z0-9_]\n",
    "#### ? : 0 or 1, -> optional character"
   ]
  },
  {
   "cell_type": "code",
   "execution_count": 46,
   "id": "d61b9181",
   "metadata": {},
   "outputs": [
    {
     "name": "stdout",
     "output_type": "stream",
     "text": [
      "<re.Match object; span=(18, 28), match='Mr Simpson'>\n",
      "<re.Match object; span=(41, 50), match='Mr. Brown'>\n",
      "<re.Match object; span=(60, 65), match='Mr. T'>\n"
     ]
    }
   ],
   "source": [
    "pattern = re.compile(r'Mr\\.?\\s\\w+')\n",
    "matches = pattern.finditer(my_string)\n",
    "\n",
    "for match in matches:\n",
    "    print(match)"
   ]
  },
  {
   "cell_type": "markdown",
   "id": "255f30ef",
   "metadata": {},
   "source": [
    "## Conditionals\n",
    "#### | : Either or \"buy|sell\""
   ]
  },
  {
   "cell_type": "code",
   "execution_count": 47,
   "id": "0ef6ee5c",
   "metadata": {},
   "outputs": [
    {
     "name": "stdout",
     "output_type": "stream",
     "text": [
      "<re.Match object; span=(18, 28), match='Mr Simpson'>\n",
      "<re.Match object; span=(29, 40), match='Mrs Simpson'>\n",
      "<re.Match object; span=(41, 50), match='Mr. Brown'>\n",
      "<re.Match object; span=(51, 59), match='Ms Smith'>\n",
      "<re.Match object; span=(60, 65), match='Mr. T'>\n"
     ]
    }
   ],
   "source": [
    "pattern = re.compile(r'(Mr|Ms|Mrs)\\.?\\s\\w+')\n",
    "matches = pattern.finditer(my_string)\n",
    "\n",
    "for match in matches:\n",
    "    print(match)"
   ]
  },
  {
   "cell_type": "markdown",
   "id": "8145b6bd",
   "metadata": {},
   "source": [
    "### Another example for Email Extraction"
   ]
  },
  {
   "cell_type": "code",
   "execution_count": 8,
   "id": "b668df51",
   "metadata": {},
   "outputs": [
    {
     "name": "stdout",
     "output_type": "stream",
     "text": [
      "<re.Match object; span=(51, 77), match='pythonprogrammer@gmail.com'>\n",
      "<re.Match object; span=(78, 105), match='serendipython12@hotmail.hot'>\n",
      "<re.Match object; span=(106, 125), match='serendi-yo@admin.yo'>\n"
     ]
    }
   ],
   "source": [
    "emails = \"\"\"\n",
    "hello world\n",
    "1223\n",
    "Mr Simpson\n",
    "Mrs Simpson\n",
    "Mr. Brown\n",
    "pythonprogrammer@gmail.com\n",
    "serendipython12@hotmail.hot\n",
    "serendi-yo@admin.yo-domain.org\n",
    "\"\"\"\n",
    "\n",
    "pattern = re.compile(r'[a-zA-Z0-9-]+@[a-zA-Z-]+\\.[a-zA-Z]+')\n",
    "matches = pattern.finditer(emails)\n",
    "\n",
    "for match in matches:\n",
    "    print(match)"
   ]
  },
  {
   "cell_type": "markdown",
   "id": "1b16ac24",
   "metadata": {},
   "source": [
    "## Grouping Regular Expression to allow for Subsetting with index"
   ]
  },
  {
   "cell_type": "code",
   "execution_count": 55,
   "id": "2a196965",
   "metadata": {},
   "outputs": [
    {
     "name": "stdout",
     "output_type": "stream",
     "text": [
      "pythonprogrammer\n",
      "serendipython12\n",
      "serendi-yo\n"
     ]
    }
   ],
   "source": [
    "# Observe brackets that partition the expression.\n",
    "pattern = re.compile(r'([a-zA-z0-9-]+)@([a-zA-Z-]+)\\.([a-zA-Z]+)')\n",
    "matches = pattern.finditer(emails)\n",
    "\n",
    "for match in matches:\n",
    "    print(match.group(1))\n",
    "\n",
    "# Output shows only email username"
   ]
  },
  {
   "cell_type": "code",
   "execution_count": 9,
   "id": "73c35b13",
   "metadata": {},
   "outputs": [
    {
     "name": "stdout",
     "output_type": "stream",
     "text": [
      "gmail\n",
      "hotmail\n",
      "admin\n"
     ]
    }
   ],
   "source": [
    "pattern = re.compile(r'([a-zA-z0-9-]+)@([a-zA-Z-]+)\\.([a-zA-Z]+)')\n",
    "matches = pattern.finditer(emails)\n",
    "\n",
    "for match in matches:\n",
    "    print(match.group(2))\n",
    "\n",
    "# Output shows only email domain"
   ]
  },
  {
   "cell_type": "markdown",
   "id": "47fc7f18",
   "metadata": {},
   "source": [
    "# Modifications to String\n",
    "### There are two methods; split and sub\n",
    "Split - splits string on pattern match"
   ]
  },
  {
   "cell_type": "code",
   "execution_count": 58,
   "id": "890ccfa9",
   "metadata": {},
   "outputs": [
    {
     "name": "stdout",
     "output_type": "stream",
     "text": [
      "['123', '456789', '123ABC']\n"
     ]
    }
   ],
   "source": [
    "# Modification to matches\n",
    "# Two methods; split, sub\n",
    "\n",
    "test_string = \"123abc456789abc123ABC\"\n",
    "pattern = re.compile(r\"abc\")\n",
    "splitted = pattern.split(test_string)\n",
    "print(splitted)"
   ]
  },
  {
   "cell_type": "markdown",
   "id": "2888f712",
   "metadata": {},
   "source": [
    "Sub - Substitute string on pattern match"
   ]
  },
  {
   "cell_type": "code",
   "execution_count": 61,
   "id": "ed500e7c",
   "metadata": {},
   "outputs": [
    {
     "name": "stdout",
     "output_type": "stream",
     "text": [
      "hello earth, great time to be in the earth\n"
     ]
    }
   ],
   "source": [
    "# Sub method for substitution\n",
    "test_string = \"hello world, great time to be in the world\"\n",
    "pattern = re.compile(r\"world\")\n",
    "subbed = pattern.sub(\"earth\", test_string)\n",
    "print(subbed)"
   ]
  },
  {
   "cell_type": "markdown",
   "id": "f7d089b6",
   "metadata": {},
   "source": [
    "## Dealing with URLs in string\n",
    "First matching for only http"
   ]
  },
  {
   "cell_type": "code",
   "execution_count": 62,
   "id": "0a6301f7",
   "metadata": {},
   "outputs": [
    {
     "name": "stdout",
     "output_type": "stream",
     "text": [
      "<re.Match object; span=(82, 102), match='http://www.pyman.net'>\n"
     ]
    }
   ],
   "source": [
    "urls = \"\"\"\n",
    "hello\n",
    "2020-05-20\n",
    "http://python-programmer.com\n",
    "https://www.serendi-programmer.com\n",
    "http://www.pyman.net\n",
    "\"\"\"\n",
    "\n",
    "pattern = re.compile(r\"http://www\\.([a-zA-Z-]+)\\.[a-zA-Z]+\")\n",
    "matches = pattern.finditer(urls)\n",
    "for match in matches:\n",
    "    print(match)"
   ]
  },
  {
   "cell_type": "markdown",
   "id": "c9835307",
   "metadata": {},
   "source": [
    "Using the Optional Character(?) to factor in https and not only http on the whole (www.) group"
   ]
  },
  {
   "cell_type": "code",
   "execution_count": 67,
   "id": "6c82fe49",
   "metadata": {},
   "outputs": [
    {
     "name": "stdout",
     "output_type": "stream",
     "text": [
      "<re.Match object; span=(18, 46), match='http://python-programmer.com'>\n",
      "<re.Match object; span=(47, 81), match='https://www.serendi-programmer.com'>\n",
      "<re.Match object; span=(82, 102), match='http://www.pyman.net'>\n"
     ]
    }
   ],
   "source": [
    "pattern = re.compile(r\"https?://(www\\.)?([a-zA-Z-]+)\\.[a-zA-Z]+\")\n",
    "matches = pattern.finditer(urls)\n",
    "for match in matches:\n",
    "    print(match)"
   ]
  },
  {
   "cell_type": "markdown",
   "id": "e6805a18",
   "metadata": {},
   "source": [
    "## Substituting URLs in urls String\n"
   ]
  },
  {
   "cell_type": "code",
   "execution_count": 68,
   "id": "7bfe5c06",
   "metadata": {},
   "outputs": [
    {
     "name": "stdout",
     "output_type": "stream",
     "text": [
      "\n",
      "hello\n",
      "2020-05-20\n",
      "link\n",
      "link\n",
      "link\n",
      "\n"
     ]
    }
   ],
   "source": [
    "subbed_urls = pattern.sub(\"link\", urls)\n",
    "print(subbed_urls)"
   ]
  },
  {
   "cell_type": "markdown",
   "id": "f13a50fe",
   "metadata": {},
   "source": [
    "## Grouping and Selecting only Domain Names"
   ]
  },
  {
   "cell_type": "code",
   "execution_count": 73,
   "id": "ae1f5f7f",
   "metadata": {},
   "outputs": [
    {
     "name": "stdout",
     "output_type": "stream",
     "text": [
      "python-programmer\n",
      "serendi-programmer\n",
      "pyman\n"
     ]
    }
   ],
   "source": [
    "pattern = re.compile(r\"https?://(www\\.)?([a-zA-Z-]+)(\\.[a-zA-Z]+)\")\n",
    "matches = pattern.finditer(urls)\n",
    "for match in matches:\n",
    "    #print(match.group(0))\n",
    "    print(match.group(2))"
   ]
  },
  {
   "cell_type": "markdown",
   "id": "e3cbdb08",
   "metadata": {},
   "source": [
    "## Substituting with Selected Domain Names"
   ]
  },
  {
   "cell_type": "code",
   "execution_count": 74,
   "id": "1627268e",
   "metadata": {},
   "outputs": [
    {
     "name": "stdout",
     "output_type": "stream",
     "text": [
      "\n",
      "hello\n",
      "2020-05-20\n",
      "python-programmer.com\n",
      "serendi-programmer.com\n",
      "pyman.net\n",
      "\n"
     ]
    }
   ],
   "source": [
    "subbed_urls = pattern.sub(r\"\\2\\3\", urls)\n",
    "print(subbed_urls)"
   ]
  },
  {
   "cell_type": "markdown",
   "id": "60dd4146",
   "metadata": {},
   "source": [
    "## Compilation Flags\n",
    "IGNORECASE, I : Do case-insensitive matches"
   ]
  },
  {
   "cell_type": "code",
   "execution_count": 75,
   "id": "f0f3de3c",
   "metadata": {},
   "outputs": [
    {
     "name": "stdout",
     "output_type": "stream",
     "text": [
      "<re.Match object; span=(6, 11), match='World'>\n"
     ]
    }
   ],
   "source": [
    "# Compilation Flags\n",
    "my_string = \"Hello World\"\n",
    "# using the IGNORECASE\n",
    "pattern = re.compile(r\"world\",re.I)\n",
    "matches = pattern.finditer(my_string)\n",
    "for match in matches:\n",
    "    print(match)"
   ]
  }
 ],
 "metadata": {
  "kernelspec": {
   "display_name": "Python 3 (ipykernel)",
   "language": "python",
   "name": "python3"
  },
  "language_info": {
   "codemirror_mode": {
    "name": "ipython",
    "version": 3
   },
   "file_extension": ".py",
   "mimetype": "text/x-python",
   "name": "python",
   "nbconvert_exporter": "python",
   "pygments_lexer": "ipython3",
   "version": "3.10.4"
  }
 },
 "nbformat": 4,
 "nbformat_minor": 5
}
