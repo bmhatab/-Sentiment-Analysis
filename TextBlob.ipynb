{
 "cells": [
  {
   "cell_type": "markdown",
   "id": "f1fe897b",
   "metadata": {},
   "source": [
    "# Sentiment Analysis with TextBlob\n",
    "An introduction to text blob for basic functionality"
   ]
  },
  {
   "cell_type": "code",
   "execution_count": 44,
   "id": "f56b5d84",
   "metadata": {},
   "outputs": [
    {
     "data": {
      "text/plain": [
       "TextBlob(\"Its a lovely evening here. I want to drive a fast car\")"
      ]
     },
     "execution_count": 44,
     "metadata": {},
     "output_type": "execute_result"
    }
   ],
   "source": [
    "#import textblob\n",
    "#blob = textblob.TextBlob('Its a lovely evening here')\n",
    "from textblob import TextBlob\n",
    "blob = TextBlob('Its a lovely evening here. I want to drive a fast car')\n",
    "blob"
   ]
  },
  {
   "cell_type": "markdown",
   "id": "0c9e0457",
   "metadata": {},
   "source": [
    "# Methods for the blob object \n",
    "### These include; words - splits string into lists of words"
   ]
  },
  {
   "cell_type": "code",
   "execution_count": 14,
   "id": "a38be035",
   "metadata": {},
   "outputs": [
    {
     "name": "stdout",
     "output_type": "stream",
     "text": [
      "['Its', 'a', 'lovely', 'evening', 'here', 'I', 'want', 'to', 'drive', 'a', 'fast', 'car']\n"
     ]
    }
   ],
   "source": [
    "# blob.words, blob.sentences, blob.noun_phrases, blob.np_counts, blob.polarity\n",
    "print(blob.words)"
   ]
  },
  {
   "cell_type": "markdown",
   "id": "9e033eb6",
   "metadata": {},
   "source": [
    "### sentences - seperates into sentences"
   ]
  },
  {
   "cell_type": "code",
   "execution_count": 15,
   "id": "8b8af834",
   "metadata": {},
   "outputs": [
    {
     "name": "stdout",
     "output_type": "stream",
     "text": [
      "[Sentence(\"Its a lovely evening here.\"), Sentence(\"I want to drive a fast car\")]\n"
     ]
    }
   ],
   "source": [
    "print(blob.sentences)"
   ]
  },
  {
   "cell_type": "markdown",
   "id": "351e7c06",
   "metadata": {},
   "source": [
    "### Filtering sentences with specific keywords"
   ]
  },
  {
   "cell_type": "code",
   "execution_count": 45,
   "id": "5b96047e",
   "metadata": {},
   "outputs": [
    {
     "name": "stdout",
     "output_type": "stream",
     "text": [
      "Its a lovely evening here.\n"
     ]
    }
   ],
   "source": [
    "for x in blob.sentences:\n",
    "    if 'lovely' in x:\n",
    "        print(x)"
   ]
  },
  {
   "cell_type": "code",
   "execution_count": 17,
   "id": "fb94a230",
   "metadata": {},
   "outputs": [
    {
     "name": "stdout",
     "output_type": "stream",
     "text": [
      "['lovely evening']\n",
      "['fast car']\n"
     ]
    }
   ],
   "source": [
    "for x in blob.sentences:\n",
    "    print(x.noun_phrases)"
   ]
  },
  {
   "cell_type": "markdown",
   "id": "0a1e011d",
   "metadata": {},
   "source": [
    "### np_counts - Noun phrase count"
   ]
  },
  {
   "cell_type": "code",
   "execution_count": 30,
   "id": "24ca6614",
   "metadata": {},
   "outputs": [
    {
     "name": "stdout",
     "output_type": "stream",
     "text": [
      "defaultdict(<class 'int'>, {'lovely evening': 1, 'fast car': 1})\n",
      "<class 'collections.defaultdict'>\n"
     ]
    }
   ],
   "source": [
    "print(blob.np_counts)\n",
    "print(type(blob.np_counts))"
   ]
  },
  {
   "cell_type": "code",
   "execution_count": 34,
   "id": "fadcb385",
   "metadata": {},
   "outputs": [
    {
     "name": "stdout",
     "output_type": "stream",
     "text": [
      "<class 'collections.defaultdict'>\n"
     ]
    }
   ],
   "source": [
    "# Coverting to normal dict(Optional but concept can be used)\n",
    "dictionary = blob.np_counts\n",
    "#dictionary = dict(dictionary)\n",
    "print(type(dictionary))"
   ]
  },
  {
   "cell_type": "markdown",
   "id": "3ff1ee45",
   "metadata": {},
   "source": [
    "### Ranking noun phrases by count"
   ]
  },
  {
   "cell_type": "code",
   "execution_count": 35,
   "id": "20489d33",
   "metadata": {},
   "outputs": [
    {
     "name": "stdout",
     "output_type": "stream",
     "text": [
      "lovely evening repeats 1 times\n",
      "fast car repeats 1 times\n"
     ]
    }
   ],
   "source": [
    "# Ranking Words count\n",
    "rankedList = sorted(dictionary, key=dictionary.get, reverse=True)\n",
    "    \n",
    "for i in range(0,len(rankedList)):\n",
    "    key = rankedList[i]\n",
    "    value = dictionary[key]\n",
    "    print(key+' repeats '+str(value)+' times')"
   ]
  },
  {
   "cell_type": "markdown",
   "id": "98462bb9",
   "metadata": {},
   "source": [
    "### Polarity - A sensitivity measure for Negative, Neutral, and Positive Sentiment in String\n",
    "if blob.polarity < 0 it has a negative sentiment\n",
    "if blob.polarity == 0 it has a neutral sentiment\n",
    "if blob.polarity > 0 it has a positive sentiment"
   ]
  },
  {
   "cell_type": "code",
   "execution_count": 36,
   "id": "cfbbf7d2",
   "metadata": {},
   "outputs": [
    {
     "name": "stdout",
     "output_type": "stream",
     "text": [
      "0.35\n"
     ]
    }
   ],
   "source": [
    "# Polarity ranges -1 to 1\n",
    "print(blob.polarity)"
   ]
  },
  {
   "cell_type": "code",
   "execution_count": 39,
   "id": "4679581d",
   "metadata": {},
   "outputs": [
    {
     "name": "stdout",
     "output_type": "stream",
     "text": [
      "Its a lovely evening here.\n",
      "I want to drive a fast car\n"
     ]
    }
   ],
   "source": [
    "for x in blob.sentences:\n",
    "    if x.polarity > 0:\n",
    "        print(x)"
   ]
  },
  {
   "cell_type": "markdown",
   "id": "40be2235",
   "metadata": {},
   "source": [
    "#### Based on the Polarity and  Subjectivity function\n",
    "This is much more interesting as a scatter plot, however i wish to limit this to the textblob package"
   ]
  },
  {
   "cell_type": "code",
   "execution_count": 40,
   "id": "91e728cb",
   "metadata": {},
   "outputs": [
    {
     "name": "stdout",
     "output_type": "stream",
     "text": [
      "Sentiment(polarity=0.35, subjectivity=0.675)\n"
     ]
    }
   ],
   "source": [
    "print(blob.sentiment)"
   ]
  },
  {
   "cell_type": "markdown",
   "id": "dce545e9",
   "metadata": {},
   "source": [
    "### Author: Serendi - bmhatab"
   ]
  },
  {
   "cell_type": "code",
   "execution_count": null,
   "id": "20a22f6f",
   "metadata": {},
   "outputs": [],
   "source": []
  }
 ],
 "metadata": {
  "kernelspec": {
   "display_name": "Python 3 (ipykernel)",
   "language": "python",
   "name": "python3"
  },
  "language_info": {
   "codemirror_mode": {
    "name": "ipython",
    "version": 3
   },
   "file_extension": ".py",
   "mimetype": "text/x-python",
   "name": "python",
   "nbconvert_exporter": "python",
   "pygments_lexer": "ipython3",
   "version": "3.10.4"
  }
 },
 "nbformat": 4,
 "nbformat_minor": 5
}
